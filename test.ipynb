{
 "cells": [
  {
   "cell_type": "code",
   "execution_count": 1,
   "metadata": {
    "collapsed": true
   },
   "outputs": [],
   "source": [
    "from selenium import webdriver"
   ]
  },
  {
   "cell_type": "code",
   "execution_count": 2,
   "outputs": [],
   "source": [
    "driver=webdriver.Chrome()"
   ],
   "metadata": {
    "collapsed": false
   }
  },
  {
   "cell_type": "code",
   "execution_count": 3,
   "outputs": [],
   "source": [
    "driver.get(\"https://www.oncokb.org/gene/ABL1#tab=Biological\")"
   ],
   "metadata": {
    "collapsed": false
   }
  },
  {
   "cell_type": "code",
   "execution_count": 4,
   "outputs": [],
   "source": [
    "ch = driver.find_elements_by_class_name(\"rt-tbody\")"
   ],
   "metadata": {
    "collapsed": false
   }
  },
  {
   "cell_type": "code",
   "execution_count": 17,
   "outputs": [
    {
     "name": "stdout",
     "output_type": "stream",
     "text": [
      "['Alteration', 'Oncogenic', 'Mutation Effect', 'Description']\n"
     ]
    }
   ],
   "source": [
    "header = [i.text for i in driver.find_elements_by_xpath(\"//div[@class='rt-thead -header']/div/div/div/span\")]\n",
    "print(header)"
   ],
   "metadata": {
    "collapsed": false
   }
  },
  {
   "cell_type": "code",
   "execution_count": 23,
   "outputs": [
    {
     "name": "stdout",
     "output_type": "stream",
     "text": [
      "['Alteration', 'Oncogenic', 'Mutation Effect']\n"
     ]
    }
   ],
   "source": [
    "print(header[:-1])"
   ],
   "metadata": {
    "collapsed": false
   }
  },
  {
   "cell_type": "code",
   "execution_count": 22,
   "outputs": [
    {
     "name": "stdout",
     "output_type": "stream",
     "text": [
      "[['BCR-ABL1 Fusion', 'Oncogenic', 'Gain-of-function'], ['Fusions', 'Likely Oncogenic', 'Likely Gain-of-function'], ['NUP214-ABL1 Fusion', 'Likely Oncogenic', 'Likely Gain-of-function'], ['M244V', 'Resistance', 'Likely Gain-of-function'], ['L248V', 'Resistance', 'Likely Gain-of-function'], ['G250E', 'Resistance', 'Inconclusive'], ['Q252H', 'Resistance', 'Likely Gain-of-function'], ['Y253F', 'Resistance', 'Gain-of-function'], ['Y253H', 'Resistance', 'Likely Gain-of-function'], ['E255K', 'Resistance', 'Likely Gain-of-function'], ['E255V', 'Resistance', 'Likely Gain-of-function'], ['D276G', 'Oncogenic', 'Gain-of-function'], ['E279K', 'Resistance', 'Likely Gain-of-function'], ['E281K', 'Resistance', 'Likely Gain-of-function'], ['V289F', 'Resistance', 'Likely Gain-of-function'], ['I293M', 'Inconclusive', 'Inconclusive'], ['V299L', 'Resistance', 'Likely Gain-of-function'], ['F311I', 'Resistance', 'Inconclusive'], ['F311L', 'Resistance', 'Likely Gain-of-function'], ['T315A', 'Resistance', 'Gain-of-function'], ['T315I', 'Resistance', 'Likely Gain-of-function'], ['T315L', 'Resistance', 'Inconclusive'], ['T315N', 'Resistance', 'Inconclusive'], ['F317C', 'Resistance', 'Likely Gain-of-function'], ['F317I', 'Resistance', 'Likely Gain-of-function'], ['F317L', 'Resistance', 'Likely Gain-of-function'], ['F317V', 'Resistance', 'Likely Gain-of-function'], ['M318T', 'Inconclusive', 'Inconclusive'], ['R332W', 'Likely Oncogenic', 'Likely Gain-of-function'], ['M351T', 'Resistance', 'Likely Gain-of-function'], ['E355A', 'Resistance', 'Likely Gain-of-function'], ['E355G', 'Resistance', 'Likely Gain-of-function'], ['F359C', 'Resistance', 'Likely Gain-of-function'], ['F359I', 'Resistance', 'Likely Gain-of-function'], ['F359V', 'Resistance', 'Likely Gain-of-function'], ['V379I', 'Resistance', 'Likely Gain-of-function'], ['L384M', 'Resistance', 'Likely Gain-of-function'], ['L387M', 'Likely Oncogenic', 'Likely Gain-of-function'], ['M388L', 'Resistance', 'Inconclusive'], ['H396P', 'Resistance', 'Likely Gain-of-function'], ['H396R', 'Resistance', 'Likely Gain-of-function'], ['S417Y', 'Resistance', 'Inconclusive'], ['Y440H', 'Inconclusive', 'Inconclusive'], ['E459K', 'Resistance', 'Likely Gain-of-function']]\n"
     ]
    }
   ],
   "source": [
    "rows = [i for i in driver.find_elements_by_xpath(\"//div[@class='rt-tbody']/div/div\")]\n",
    "datalist=[]\n",
    "for row in rows:\n",
    "  datalist.append([i.text for i in row.find_elements_by_css_selector('div') if i.text])\n",
    "print(datalist)"
   ],
   "metadata": {
    "collapsed": false
   }
  },
  {
   "cell_type": "code",
   "execution_count": 24,
   "outputs": [
    {
     "name": "stdout",
     "output_type": "stream",
     "text": [
      "            Alteration         Oncogenic          Mutation Effect\n",
      "0      BCR-ABL1 Fusion         Oncogenic         Gain-of-function\n",
      "1              Fusions  Likely Oncogenic  Likely Gain-of-function\n",
      "2   NUP214-ABL1 Fusion  Likely Oncogenic  Likely Gain-of-function\n",
      "3                M244V        Resistance  Likely Gain-of-function\n",
      "4                L248V        Resistance  Likely Gain-of-function\n",
      "5                G250E        Resistance             Inconclusive\n",
      "6                Q252H        Resistance  Likely Gain-of-function\n",
      "7                Y253F        Resistance         Gain-of-function\n",
      "8                Y253H        Resistance  Likely Gain-of-function\n",
      "9                E255K        Resistance  Likely Gain-of-function\n",
      "10               E255V        Resistance  Likely Gain-of-function\n",
      "11               D276G         Oncogenic         Gain-of-function\n",
      "12               E279K        Resistance  Likely Gain-of-function\n",
      "13               E281K        Resistance  Likely Gain-of-function\n",
      "14               V289F        Resistance  Likely Gain-of-function\n",
      "15               I293M      Inconclusive             Inconclusive\n",
      "16               V299L        Resistance  Likely Gain-of-function\n",
      "17               F311I        Resistance             Inconclusive\n",
      "18               F311L        Resistance  Likely Gain-of-function\n",
      "19               T315A        Resistance         Gain-of-function\n",
      "20               T315I        Resistance  Likely Gain-of-function\n",
      "21               T315L        Resistance             Inconclusive\n",
      "22               T315N        Resistance             Inconclusive\n",
      "23               F317C        Resistance  Likely Gain-of-function\n",
      "24               F317I        Resistance  Likely Gain-of-function\n",
      "25               F317L        Resistance  Likely Gain-of-function\n",
      "26               F317V        Resistance  Likely Gain-of-function\n",
      "27               M318T      Inconclusive             Inconclusive\n",
      "28               R332W  Likely Oncogenic  Likely Gain-of-function\n",
      "29               M351T        Resistance  Likely Gain-of-function\n",
      "30               E355A        Resistance  Likely Gain-of-function\n",
      "31               E355G        Resistance  Likely Gain-of-function\n",
      "32               F359C        Resistance  Likely Gain-of-function\n",
      "33               F359I        Resistance  Likely Gain-of-function\n",
      "34               F359V        Resistance  Likely Gain-of-function\n",
      "35               V379I        Resistance  Likely Gain-of-function\n",
      "36               L384M        Resistance  Likely Gain-of-function\n",
      "37               L387M  Likely Oncogenic  Likely Gain-of-function\n",
      "38               M388L        Resistance             Inconclusive\n",
      "39               H396P        Resistance  Likely Gain-of-function\n",
      "40               H396R        Resistance  Likely Gain-of-function\n",
      "41               S417Y        Resistance             Inconclusive\n",
      "42               Y440H      Inconclusive             Inconclusive\n",
      "43               E459K        Resistance  Likely Gain-of-function\n"
     ]
    }
   ],
   "source": [
    "header = header[:-1]\n",
    "import pandas as pd\n",
    "df = pd.DataFrame(datalist, columns=header)\n",
    "print(df)"
   ],
   "metadata": {
    "collapsed": false
   }
  },
  {
   "cell_type": "code",
   "execution_count": null,
   "outputs": [],
   "source": [
    "i"
   ],
   "metadata": {
    "collapsed": false
   }
  },
  {
   "cell_type": "code",
   "execution_count": null,
   "outputs": [],
   "source": [
    "rows=[i for i in table.find_elements_by_css_selector('tbody>tr') if i.text]\n",
    "for row in rows:\n",
    "  datalist.append([i.txt for i in row.find_elements_by_css_selector('td') if i.text])\n",
    "df=pd.DataFrame(datalist, columns=header)"
   ],
   "metadata": {
    "collapsed": false
   }
  }
 ],
 "metadata": {
  "kernelspec": {
   "display_name": "Python 3",
   "language": "python",
   "name": "python3"
  },
  "language_info": {
   "codemirror_mode": {
    "name": "ipython",
    "version": 2
   },
   "file_extension": ".py",
   "mimetype": "text/x-python",
   "name": "python",
   "nbconvert_exporter": "python",
   "pygments_lexer": "ipython2",
   "version": "2.7.6"
  }
 },
 "nbformat": 4,
 "nbformat_minor": 0
}
